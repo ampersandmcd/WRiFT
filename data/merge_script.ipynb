{
 "cells": [
  {
   "cell_type": "code",
   "execution_count": 1,
   "id": "37964d6f",
   "metadata": {},
   "outputs": [],
   "source": [
    "from osgeo import gdal, gdalconst\n",
    "import shutil\n",
    "import tkinter as tk\n",
    "from tkinter import filedialog\n",
    "import os\n",
    "\n",
    "# The user will download all specified archives and place them in a single directory.\n",
    "\n",
    "root = tk.Tk()\n",
    "root.withdraw()\n",
    "\n",
    "# Prompt user to select directory\n",
    "directory = filedialog.askdirectory()\n",
    "extension = \".zip\"\n",
    "\n",
    "# Extract all files in user-selected directory.\n",
    "for listing in os.listdir(directory):\n",
    "    if listing.endswith(extension):\n",
    "        fullpath = os.path.join(directory, listing)\n",
    "        folder = shutil.unpack_archive(fullpath, directory)\n",
    "        os.remove(fullpath)\n",
    "        del folder\n"
   ]
  },
  {
   "cell_type": "code",
   "execution_count": 2,
   "id": "4386fcaf",
   "metadata": {},
   "outputs": [],
   "source": [
    "# Create a list of the .tif files in the extracted folders\n",
    "filelist = []\n",
    "for file in os.listdir(directory):\n",
    "    full_path = os.path.join(directory, file, file + '.tif')\n",
    "    filelist.append(full_path)"
   ]
  },
  {
   "cell_type": "code",
   "execution_count": 3,
   "id": "0eecf652",
   "metadata": {},
   "outputs": [],
   "source": [
    "# Merge all to a single file\n",
    "vrt_path = os.path.join(directory, 'mrg_vrt.vrt')\n",
    "vrt = gdal.BuildVRT(vrt_path, filelist, separate=True)\n",
    "\n",
    "tif = os.path.join(directory, 'merged.tif')\n",
    "nc = os.path.join(directory, 'merged.nc')\n",
    "tifset = gdal.Translate(tif, vrt)\n",
    "ncset = gdal.Translate(nc, tif)"
   ]
  },
  {
   "cell_type": "code",
   "execution_count": 4,
   "id": "0407c3d7",
   "metadata": {},
   "outputs": [],
   "source": [
    "del tifset\n",
    "del ncset"
   ]
  },
  {
   "cell_type": "code",
   "execution_count": 5,
   "id": "17400bb5",
   "metadata": {},
   "outputs": [],
   "source": [
    "from netCDF4 import Dataset\n",
    "import re\n",
    "\n",
    "#Rename Variables\n",
    "\n",
    "nameSearch = r\"\\\\US_(.+)\\\\\"\n",
    "\n",
    "raster = Dataset(nc, mode=\"a\")\n",
    "\n",
    "for variable, file in enumerate(filelist):\n",
    "    name = re.search(nameSearch, file).group(1)\n",
    "    raster.renameVariable(\"Band\" + str(variable + 1), name)\n",
    "    "
   ]
  },
  {
   "cell_type": "code",
   "execution_count": null,
   "id": "0253108b",
   "metadata": {},
   "outputs": [],
   "source": [
    "del raster"
   ]
  }
 ],
 "metadata": {
  "kernelspec": {
   "display_name": "PyCharm (CapstoneExploration)",
   "language": "python",
   "name": "pycharm-6e7d6ee0"
  },
  "language_info": {
   "codemirror_mode": {
    "name": "ipython",
    "version": 3
   },
   "file_extension": ".py",
   "mimetype": "text/x-python",
   "name": "python",
   "nbconvert_exporter": "python",
   "pygments_lexer": "ipython3",
   "version": "3.9.10"
  }
 },
 "nbformat": 4,
 "nbformat_minor": 5
}
