{
 "cells": [
  {
   "cell_type": "code",
   "execution_count": null,
   "metadata": {},
   "outputs": [],
   "source": [
    "import xarray as xr\n",
    "import rioxarray\n",
    "import plotly.express as px\n",
    "import plotly.graph_objects as go\n",
    "import numpy as np\n",
    "import pandas as pd\n",
    "token = open(\"../flask/application/static/.mapbox_token\").read()\n",
    "px.set_mapbox_access_token(token)"
   ]
  },
  {
   "cell_type": "code",
   "execution_count": null,
   "metadata": {
    "pycharm": {
     "name": "#%%\n"
    }
   },
   "outputs": [],
   "source": [
    "df = pd.read_csv(\"../flask/application/static/farsite_lonlat_low.csv\")\n",
    "df.head()"
   ]
  },
  {
   "cell_type": "code",
   "execution_count": null,
   "metadata": {
    "pycharm": {
     "name": "#%%\n"
    }
   },
   "outputs": [],
   "source": [
    "fig = px.scatter_mapbox(df, lat=\"y\", lon=\"x\", color=\"US_DEM\", opacity=0.1)\n",
    "fig.update_layout(\n",
    "    mapbox_style=\"white-bg\",\n",
    "    mapbox_layers=[\n",
    "        {\n",
    "            \"below\": 'traces',\n",
    "            \"sourcetype\": \"raster\",\n",
    "            \"sourceattribution\": \"United States Geological Survey\",\n",
    "            \"source\": [\n",
    "                \"https://basemap.nationalmap.gov/arcgis/rest/services/USGSImageryOnly/MapServer/tile/{z}/{y}/{x}\"\n",
    "            ]\n",
    "        }\n",
    "      ])\n",
    "fig.update_layout(margin={\"r\":0,\"t\":0,\"l\":0,\"b\":0})\n",
    "fig.show()"
   ]
  },
  {
   "cell_type": "code",
   "execution_count": null,
   "metadata": {
    "pycharm": {
     "name": "#%%\n"
    }
   },
   "outputs": [],
   "source": [
    "# based on https://plotly.com/python/dropdowns/ and https://plot.ly/~empet/15237\n",
    "# set layout\n",
    "layout = go.Layout(mapbox=dict(accesstoken=token))\n",
    "\n",
    "# load data\n",
    "data = []\n",
    "# display_columns = [\"US_210CBD\", \"US_210CBH\", \"US_210CC\", \"US_210CH\", \"US_210EVC\", \"US_210EVH\", \"US_210F40\",\n",
    "#                    \"US_210FVC\", \"US_210FVH\", \"US_210FVT\", \"US_ASP\", \"US_DEM\", \"US_FDIST\", \"US_SLP\"]\n",
    "display_columns = [\"US_DEM\", \"US_SLP\"]\n",
    "for column in display_columns:\n",
    "        data.append(\n",
    "            go.Scattergeo(lat=df[\"y\"], lon=df[\"x\"], customdata=df, marker_color=df[column], opacity=0.1, visible=True)\n",
    "        )\n",
    "data[0].visible = True\n",
    "\n",
    "# Create button list\n",
    "buttons = []\n",
    "for i, item in enumerate(display_columns):\n",
    "    visibility = [False] * len(display_columns)\n",
    "    visibility[i] = True\n",
    "    buttons.append(dict(\n",
    "        args=[\"visible\", visibility],\n",
    "        label=item,\n",
    "        method=\"restyle\"\n",
    "    ))\n",
    "\n",
    "# Add mapbox and dropdown\n",
    "layout.update(\n",
    "    mapbox=dict(accesstoken=token),\n",
    "    updatemenus=[\n",
    "        dict(\n",
    "            buttons=buttons,\n",
    "            direction=\"down\",\n",
    "            pad={\"r\": 10, \"t\": 10},\n",
    "            showactive=True,\n",
    "            x=0.1,\n",
    "            xanchor=\"left\",\n",
    "            y=1.1,\n",
    "            yanchor=\"top\"\n",
    "        ),\n",
    "    ]\n",
    ")\n",
    "\n",
    "# Add annotation\n",
    "layout.update(\n",
    "    annotations=[\n",
    "        dict(text=\"Data Layer:\", showarrow=False,\n",
    "        x=0, y=1.085, yref=\"paper\", align=\"left\")\n",
    "    ]\n",
    ")\n",
    "\n",
    "fig = go.Figure(data=data, layout=layout)\n",
    "fig.show()"
   ]
  }
 ],
 "metadata": {
  "kernelspec": {
   "display_name": "Python 3",
   "language": "python",
   "name": "python3"
  },
  "language_info": {
   "codemirror_mode": {
    "name": "ipython",
    "version": 2
   },
   "file_extension": ".py",
   "mimetype": "text/x-python",
   "name": "python",
   "nbconvert_exporter": "python",
   "pygments_lexer": "ipython2",
   "version": "2.7.6"
  }
 },
 "nbformat": 4,
 "nbformat_minor": 0
}
