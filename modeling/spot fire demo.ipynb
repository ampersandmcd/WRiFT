{
 "cells": [
  {
   "cell_type": "code",
   "execution_count": 124,
   "id": "14ad2475",
   "metadata": {},
   "outputs": [
    {
     "name": "stdout",
     "output_type": "stream",
     "text": [
      "spotting probability: 20\n",
      "wind direction: N\n",
      "set :  20 %\n",
      "[160.9 643.6 321.8 804.5]\n"
     ]
    }
   ],
   "source": [
    "CBD = 0.03\n",
    "CFB = 0.5\n",
    "\n",
    "import random\n",
    "import numpy as np\n",
    "\n",
    "# Assume it's Douglas-Fir : https://www.nwcg.gov/publications/pms437/crown-fire/spotting-fire-behavior#TOC-NOM-1.-Maximum-Spotting-Distance-Flame-Height\n",
    "# there a 5 in a grid: \n",
    "MSdist = np.array([0.1*1609 , 0.4*1609 ,0.2*1609 , 0.5*1609 ])\n",
    "# Maximum Spotting Distance, in miles\n",
    "#20 ft Windspeed, in mph\n",
    "U_20 = 6\n",
    "pro = input(\"spotting probability: \")\n",
    "\n",
    "\n",
    "dir = input(\"wind direction: \")\n",
    "print(\"set : \", pro,\"%\")\n",
    "print(MSdist)"
   ]
  },
  {
   "cell_type": "code",
   "execution_count": 125,
   "id": "a71aa06b",
   "metadata": {},
   "outputs": [],
   "source": [
    "class grid:\n",
    "    def __init__(self):\n",
    "        self.Ig = False\n",
    "    "
   ]
  },
  {
   "cell_type": "code",
   "execution_count": 126,
   "id": "fb2f0b1f",
   "metadata": {},
   "outputs": [
    {
     "name": "stdout",
     "output_type": "stream",
     "text": [
      "generate ember\n",
      "[160.9 643.6]\n",
      "generate ember\n",
      "[160.9 643.6]\n",
      "generate ember\n",
      "[160.9 643.6]\n",
      "generate ember\n",
      "[160.9 643.6]\n",
      "generate ember\n",
      "[160.9 643.6]\n",
      "generate ember\n",
      "[160.9 643.6]\n",
      "ember starting\n",
      "spoting fire distance:  [ 44.61095254 178.44381016] meter\n",
      "spoting fire time:  [ 7.43515876 29.74063503] second\n",
      "generate ember\n",
      "[160.9 643.6]\n"
     ]
    },
    {
     "ename": "KeyboardInterrupt",
     "evalue": "",
     "output_type": "error",
     "traceback": [
      "\u001b[1;31m---------------------------------------------------------------------------\u001b[0m",
      "\u001b[1;31mKeyboardInterrupt\u001b[0m                         Traceback (most recent call last)",
      "\u001b[1;32m~\\AppData\\Local\\Temp/ipykernel_15108/2154316292.py\u001b[0m in \u001b[0;36m<module>\u001b[1;34m\u001b[0m\n\u001b[0;32m     18\u001b[0m \u001b[0msecond\u001b[0m \u001b[1;33m=\u001b[0m \u001b[0mgenerate_ember\u001b[0m\u001b[1;33m(\u001b[0m\u001b[1;36m0\u001b[0m\u001b[1;33m,\u001b[0m \u001b[1;36m0\u001b[0m\u001b[1;33m,\u001b[0m \u001b[1;36m3\u001b[0m\u001b[1;33m)\u001b[0m\u001b[1;33m\u001b[0m\u001b[1;33m\u001b[0m\u001b[0m\n\u001b[0;32m     19\u001b[0m \u001b[1;32mwhile\u001b[0m \u001b[1;32mTrue\u001b[0m\u001b[1;33m:\u001b[0m\u001b[1;33m\u001b[0m\u001b[1;33m\u001b[0m\u001b[0m\n\u001b[1;32m---> 20\u001b[1;33m     \u001b[0mtime\u001b[0m\u001b[1;33m.\u001b[0m\u001b[0msleep\u001b[0m\u001b[1;33m(\u001b[0m\u001b[0msecond\u001b[0m\u001b[1;33m)\u001b[0m\u001b[1;33m\u001b[0m\u001b[1;33m\u001b[0m\u001b[0m\n\u001b[0m\u001b[0;32m     21\u001b[0m     \u001b[0mprint\u001b[0m\u001b[1;33m(\u001b[0m\u001b[1;34m'generate ember'\u001b[0m\u001b[1;33m)\u001b[0m\u001b[1;33m\u001b[0m\u001b[1;33m\u001b[0m\u001b[0m\n\u001b[0;32m     22\u001b[0m     \u001b[1;32mif\u001b[0m \u001b[1;33m(\u001b[0m\u001b[0mCBD\u001b[0m\u001b[1;33m*\u001b[0m \u001b[0mCFB\u001b[0m \u001b[1;33m<=\u001b[0m \u001b[1;36m0.25\u001b[0m\u001b[1;33m)\u001b[0m\u001b[1;33m:\u001b[0m\u001b[1;33m\u001b[0m\u001b[1;33m\u001b[0m\u001b[0m\n",
      "\u001b[1;31mKeyboardInterrupt\u001b[0m: "
     ]
    }
   ],
   "source": [
    "import time\n",
    "import math\n",
    "import numpy as np\n",
    "from random import *\n",
    "\n",
    "\n",
    "def spot_dis(rand,msd, pro):\n",
    "    if rand <= int(pro):\n",
    "        print(1)\n",
    "        return math.log(rand)*msd/5\n",
    "    return None\n",
    "\n",
    "\n",
    "def generate_ember(hour, min, sec):\n",
    "    return hour * 3600 + min * 60 + sec\n",
    "\n",
    "\n",
    "second = generate_ember(0, 0, 3)\n",
    "while True:\n",
    "    time.sleep(second)\n",
    "    print('generate ember')\n",
    "    if (CBD* CFB <= 0.25):\n",
    "        spot_dis = MSdist[:2]\n",
    "    else:\n",
    "        spot_dis = MSdist\n",
    "    print(spot_dis)\n",
    "    x = randint(1,100)\n",
    "    if x <= int(pro):\n",
    "        print(\"ember starting\")\n",
    "        ls = math.log(rand)*spot_dis/5\n",
    "        print(\"spoting fire distance: \",ls, \"meter\")\n",
    "        sec = ls/U_20 \n",
    "        print(\"spoting fire time: \",sec, \"second\")\n",
    "    \n",
    "\n",
    "        \n",
    "        "
   ]
  },
  {
   "cell_type": "code",
   "execution_count": 127,
   "id": "71522558",
   "metadata": {},
   "outputs": [
    {
     "name": "stdout",
     "output_type": "stream",
     "text": [
      "44.610952540838085 7.435158756806348\n",
      "178.44381016335234 29.74063502722539\n",
      "[(7.435158756806348, 44.610952540838085), (29.74063502722539, 178.44381016335234)]\n"
     ]
    }
   ],
   "source": [
    "import heapq\n",
    "spot_fire_container = []\n",
    "\n",
    "for i in range(0,len(ls)):\n",
    "    print(ls[i],sec[i])\n",
    "    heapq.heappush(spot_fire_container, ((sec[i],ls[i])))\n",
    "print(spot_fire_container)"
   ]
  },
  {
   "cell_type": "code",
   "execution_count": 128,
   "id": "066f041c",
   "metadata": {},
   "outputs": [
    {
     "name": "stdout",
     "output_type": "stream",
     "text": [
      "270\n",
      "waiting ember flying to the destination :  7.435158756806348\n",
      "fire start here!\n",
      "44.610952540838085\n",
      "x :  0 y ;  -45\n",
      "waiting ember flying to the destination :  29.74063502722539\n",
      "fire start here!\n",
      "178.44381016335234\n",
      "x :  0 y ;  -178\n"
     ]
    }
   ],
   "source": [
    "g = grid()\n",
    "\n",
    "df_dict = { \"N\": 270,\"NE\": 315,\"E\": 0,\"SE\": 45,\"S\": 90 ,\"SW\": 135, \"W\": 180, \"NW\" : 225}\n",
    "          \n",
    "\n",
    "dir_w = df_dict[dir]\n",
    "print(dir_w)\n",
    "\n",
    "while True:\n",
    "    if(len(spot_fire_container) == 0):\n",
    "        break\n",
    "    sec, pix = heapq.heappop(spot_fire_container)\n",
    "    \n",
    "    second = generate_ember(0, 0, sec)\n",
    "    print(\"waiting ember flying to the destination : \", second)\n",
    "    time.sleep(second)\n",
    "    if(g.Ig):\n",
    "        print(\"already burned!\")\n",
    "    else:\n",
    "        print(\"fire start here!\")\n",
    "        print(pix)\n",
    "        print(\"x : \", round(math.cos(math.radians(dir_w))*pix), \"y ; \", round(math.sin(math.radians(dir_w))*pix))\n",
    "        \n",
    "        \n",
    "    "
   ]
  },
  {
   "cell_type": "code",
   "execution_count": 123,
   "id": "8eb5df8b",
   "metadata": {},
   "outputs": [
    {
     "name": "stdout",
     "output_type": "stream",
     "text": [
      "-1.8369701987210297e-16\n"
     ]
    }
   ],
   "source": [
    "\n",
    "print(math.cos(math.radians(270)))"
   ]
  },
  {
   "cell_type": "code",
   "execution_count": 98,
   "id": "6d7c15ea",
   "metadata": {},
   "outputs": [
    {
     "data": {
      "text/plain": [
       "(-1.8369701987210297e-16, -1.0)"
      ]
     },
     "execution_count": 98,
     "metadata": {},
     "output_type": "execute_result"
    }
   ],
   "source": []
  },
  {
   "cell_type": "code",
   "execution_count": null,
   "id": "464b8c70",
   "metadata": {},
   "outputs": [],
   "source": []
  }
 ],
 "metadata": {
  "kernelspec": {
   "display_name": "Python 3 (ipykernel)",
   "language": "python",
   "name": "python3"
  },
  "language_info": {
   "codemirror_mode": {
    "name": "ipython",
    "version": 3
   },
   "file_extension": ".py",
   "mimetype": "text/x-python",
   "name": "python",
   "nbconvert_exporter": "python",
   "pygments_lexer": "ipython3",
   "version": "3.9.7"
  }
 },
 "nbformat": 4,
 "nbformat_minor": 5
}
