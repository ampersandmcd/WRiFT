{
 "cells": [
  {
   "cell_type": "code",
   "execution_count": 2,
   "id": "7953a0e6",
   "metadata": {},
   "outputs": [],
   "source": [
    "import json\n",
    "import geopandas as gpd"
   ]
  },
  {
   "cell_type": "code",
   "execution_count": 20,
   "id": "a5b508e3",
   "metadata": {},
   "outputs": [],
   "source": [
    "import pandas as pd\n",
    "\n",
    "dummy_fire = pd.DataFrame([[-122.0054482 ,   37.22892986], [-122.0054482 ,   37.22805234], [-122.00457067  , 37.22951488], [-122.00515569 ,  37.22834484], [-122.00574071 ,  37.22980739], [-122.0054482 ,   37.22922237], [-122.00515569  , 37.22863735], [-122.0054482   , 37.22951488], [-122.00515569 ,  37.22892986], [-122.00515569 ,  37.22805234], [-122.0054482   , 37.22980739], [-122.00486318 ,  37.22834484], [-122.00515569 ,  37.22922237], [-122.00457067 ,  37.22922237], [-122.00486318   ,37.22863735], [-122.00515569   ,37.22951488], [-122.00486318 ,  37.22805234], [-122.00574071  , 37.22834484], [-122.00486318  , 37.22892986], [-122.00515569  , 37.22980739], [-122.00603321  , 37.22951488], [-122.00457067 ,  37.22834484], [-122.00574071   ,37.22863735], [-122.00603321  , 37.22980739], [-122.00486318  , 37.22922237], [-122.00457067  , 37.22863735], [-122.00486318  , 37.22951488], [-122.00574071,   37.22892986], [-122.00457067,   37.22892986], [-122.0054482,    37.22834484], [-122.00574071 ,  37.22922237], [-122.0054482,    37.22863735]])"
   ]
  },
  {
   "cell_type": "code",
   "execution_count": null,
   "id": "c50278c2",
   "metadata": {},
   "outputs": [],
   "source": [
    "dummy_fire.columns = ['x','y']\n",
    "gdf = gpd.GeoDataFrame(\n",
    "    dummy_fire, geometry=gpd.points_from_xy(dummy_fire.x, dummy_fire.y))\n",
    "gdf.drop(['x', 'y'], axis=1, inplace=True)"
   ]
  },
  {
   "cell_type": "code",
   "execution_count": 22,
   "id": "a24e20e1",
   "metadata": {},
   "outputs": [],
   "source": [
    "fire_u = gdf.unary_union"
   ]
  },
  {
   "cell_type": "code",
   "execution_count": 23,
   "id": "fecb9c65",
   "metadata": {},
   "outputs": [
    {
     "data": {
      "image/svg+xml": [
       "<svg xmlns=\"http://www.w3.org/2000/svg\" xmlns:xlink=\"http://www.w3.org/1999/xlink\" width=\"100.0\" height=\"100.0\" viewBox=\"-122.006103412 37.227982137999994 0.0016029439999982742 0.00189545400000668\" preserveAspectRatio=\"xMinYMin meet\"><g transform=\"matrix(1,0,0,-1,0,74.45785973)\"><g><circle cx=\"-122.00603321\" cy=\"37.22951488\" r=\"5.68636200002004e-05\" stroke=\"#555555\" stroke-width=\"1.89545400000668e-05\" fill=\"#66cc99\" opacity=\"0.6\" /><circle cx=\"-122.00603321\" cy=\"37.22980739\" r=\"5.68636200002004e-05\" stroke=\"#555555\" stroke-width=\"1.89545400000668e-05\" fill=\"#66cc99\" opacity=\"0.6\" /><circle cx=\"-122.00574071\" cy=\"37.22834484\" r=\"5.68636200002004e-05\" stroke=\"#555555\" stroke-width=\"1.89545400000668e-05\" fill=\"#66cc99\" opacity=\"0.6\" /><circle cx=\"-122.00574071\" cy=\"37.22863735\" r=\"5.68636200002004e-05\" stroke=\"#555555\" stroke-width=\"1.89545400000668e-05\" fill=\"#66cc99\" opacity=\"0.6\" /><circle cx=\"-122.00574071\" cy=\"37.22892986\" r=\"5.68636200002004e-05\" stroke=\"#555555\" stroke-width=\"1.89545400000668e-05\" fill=\"#66cc99\" opacity=\"0.6\" /><circle cx=\"-122.00574071\" cy=\"37.22922237\" r=\"5.68636200002004e-05\" stroke=\"#555555\" stroke-width=\"1.89545400000668e-05\" fill=\"#66cc99\" opacity=\"0.6\" /><circle cx=\"-122.00574071\" cy=\"37.22980739\" r=\"5.68636200002004e-05\" stroke=\"#555555\" stroke-width=\"1.89545400000668e-05\" fill=\"#66cc99\" opacity=\"0.6\" /><circle cx=\"-122.0054482\" cy=\"37.22805234\" r=\"5.68636200002004e-05\" stroke=\"#555555\" stroke-width=\"1.89545400000668e-05\" fill=\"#66cc99\" opacity=\"0.6\" /><circle cx=\"-122.0054482\" cy=\"37.22834484\" r=\"5.68636200002004e-05\" stroke=\"#555555\" stroke-width=\"1.89545400000668e-05\" fill=\"#66cc99\" opacity=\"0.6\" /><circle cx=\"-122.0054482\" cy=\"37.22863735\" r=\"5.68636200002004e-05\" stroke=\"#555555\" stroke-width=\"1.89545400000668e-05\" fill=\"#66cc99\" opacity=\"0.6\" /><circle cx=\"-122.0054482\" cy=\"37.22892986\" r=\"5.68636200002004e-05\" stroke=\"#555555\" stroke-width=\"1.89545400000668e-05\" fill=\"#66cc99\" opacity=\"0.6\" /><circle cx=\"-122.0054482\" cy=\"37.22922237\" r=\"5.68636200002004e-05\" stroke=\"#555555\" stroke-width=\"1.89545400000668e-05\" fill=\"#66cc99\" opacity=\"0.6\" /><circle cx=\"-122.0054482\" cy=\"37.22951488\" r=\"5.68636200002004e-05\" stroke=\"#555555\" stroke-width=\"1.89545400000668e-05\" fill=\"#66cc99\" opacity=\"0.6\" /><circle cx=\"-122.0054482\" cy=\"37.22980739\" r=\"5.68636200002004e-05\" stroke=\"#555555\" stroke-width=\"1.89545400000668e-05\" fill=\"#66cc99\" opacity=\"0.6\" /><circle cx=\"-122.00515569\" cy=\"37.22805234\" r=\"5.68636200002004e-05\" stroke=\"#555555\" stroke-width=\"1.89545400000668e-05\" fill=\"#66cc99\" opacity=\"0.6\" /><circle cx=\"-122.00515569\" cy=\"37.22834484\" r=\"5.68636200002004e-05\" stroke=\"#555555\" stroke-width=\"1.89545400000668e-05\" fill=\"#66cc99\" opacity=\"0.6\" /><circle cx=\"-122.00515569\" cy=\"37.22863735\" r=\"5.68636200002004e-05\" stroke=\"#555555\" stroke-width=\"1.89545400000668e-05\" fill=\"#66cc99\" opacity=\"0.6\" /><circle cx=\"-122.00515569\" cy=\"37.22892986\" r=\"5.68636200002004e-05\" stroke=\"#555555\" stroke-width=\"1.89545400000668e-05\" fill=\"#66cc99\" opacity=\"0.6\" /><circle cx=\"-122.00515569\" cy=\"37.22922237\" r=\"5.68636200002004e-05\" stroke=\"#555555\" stroke-width=\"1.89545400000668e-05\" fill=\"#66cc99\" opacity=\"0.6\" /><circle cx=\"-122.00515569\" cy=\"37.22951488\" r=\"5.68636200002004e-05\" stroke=\"#555555\" stroke-width=\"1.89545400000668e-05\" fill=\"#66cc99\" opacity=\"0.6\" /><circle cx=\"-122.00515569\" cy=\"37.22980739\" r=\"5.68636200002004e-05\" stroke=\"#555555\" stroke-width=\"1.89545400000668e-05\" fill=\"#66cc99\" opacity=\"0.6\" /><circle cx=\"-122.00486318\" cy=\"37.22805234\" r=\"5.68636200002004e-05\" stroke=\"#555555\" stroke-width=\"1.89545400000668e-05\" fill=\"#66cc99\" opacity=\"0.6\" /><circle cx=\"-122.00486318\" cy=\"37.22834484\" r=\"5.68636200002004e-05\" stroke=\"#555555\" stroke-width=\"1.89545400000668e-05\" fill=\"#66cc99\" opacity=\"0.6\" /><circle cx=\"-122.00486318\" cy=\"37.22863735\" r=\"5.68636200002004e-05\" stroke=\"#555555\" stroke-width=\"1.89545400000668e-05\" fill=\"#66cc99\" opacity=\"0.6\" /><circle cx=\"-122.00486318\" cy=\"37.22892986\" r=\"5.68636200002004e-05\" stroke=\"#555555\" stroke-width=\"1.89545400000668e-05\" fill=\"#66cc99\" opacity=\"0.6\" /><circle cx=\"-122.00486318\" cy=\"37.22922237\" r=\"5.68636200002004e-05\" stroke=\"#555555\" stroke-width=\"1.89545400000668e-05\" fill=\"#66cc99\" opacity=\"0.6\" /><circle cx=\"-122.00486318\" cy=\"37.22951488\" r=\"5.68636200002004e-05\" stroke=\"#555555\" stroke-width=\"1.89545400000668e-05\" fill=\"#66cc99\" opacity=\"0.6\" /><circle cx=\"-122.00457067\" cy=\"37.22834484\" r=\"5.68636200002004e-05\" stroke=\"#555555\" stroke-width=\"1.89545400000668e-05\" fill=\"#66cc99\" opacity=\"0.6\" /><circle cx=\"-122.00457067\" cy=\"37.22863735\" r=\"5.68636200002004e-05\" stroke=\"#555555\" stroke-width=\"1.89545400000668e-05\" fill=\"#66cc99\" opacity=\"0.6\" /><circle cx=\"-122.00457067\" cy=\"37.22892986\" r=\"5.68636200002004e-05\" stroke=\"#555555\" stroke-width=\"1.89545400000668e-05\" fill=\"#66cc99\" opacity=\"0.6\" /><circle cx=\"-122.00457067\" cy=\"37.22922237\" r=\"5.68636200002004e-05\" stroke=\"#555555\" stroke-width=\"1.89545400000668e-05\" fill=\"#66cc99\" opacity=\"0.6\" /><circle cx=\"-122.00457067\" cy=\"37.22951488\" r=\"5.68636200002004e-05\" stroke=\"#555555\" stroke-width=\"1.89545400000668e-05\" fill=\"#66cc99\" opacity=\"0.6\" /></g></g></svg>"
      ],
      "text/plain": [
       "<shapely.geometry.multipoint.MultiPoint at 0x21300b06190>"
      ]
     },
     "execution_count": 23,
     "metadata": {},
     "output_type": "execute_result"
    }
   ],
   "source": [
    "fire_u"
   ]
  },
  {
   "cell_type": "code",
   "execution_count": 24,
   "id": "087cbc7b",
   "metadata": {},
   "outputs": [
    {
     "data": {
      "image/svg+xml": [
       "<svg xmlns=\"http://www.w3.org/2000/svg\" xmlns:xlink=\"http://www.w3.org/1999/xlink\" width=\"100.0\" height=\"100.0\" viewBox=\"-122.006103412 37.227982137999994 0.0016029439999982742 0.00189545400000668\" preserveAspectRatio=\"xMinYMin meet\"><g transform=\"matrix(1,0,0,-1,0,74.45785973)\"><path fill-rule=\"evenodd\" fill=\"#66cc99\" stroke=\"#555555\" stroke-width=\"3.79090800001336e-05\" opacity=\"0.6\" d=\"M -122.0054482,37.22805234 L -122.00574071,37.22834484 L -122.00603321,37.22951488 L -122.00603321,37.22980739 L -122.00515569,37.22980739 L -122.00457067,37.22951488 L -122.00457067,37.22834484 L -122.00486318,37.22805234 L -122.0054482,37.22805234 z\" /></g></svg>"
      ],
      "text/plain": [
       "<shapely.geometry.polygon.Polygon at 0x2133d337250>"
      ]
     },
     "execution_count": 24,
     "metadata": {},
     "output_type": "execute_result"
    }
   ],
   "source": [
    "fire_hull = gdf.unary_union.convex_hull\n",
    "fire_hull"
   ]
  },
  {
   "cell_type": "code",
   "execution_count": null,
   "id": "dda07c91",
   "metadata": {},
   "outputs": [],
   "source": [
    "SC = pd.DataFrame([[37.57023962871226, -122.5463942584929], [37.522313505974715, -121.1485564830215], [36.8723014844421, -120.88410068766201], [36.85618108009037, -122.2491963170413]])\n",
    "SC.columns = ['x','y']\n",
    "SC_bounds = gpd.GeoDataFrame(\n",
    "    SC, geometry=gpd.points_from_xy(SC.y, SC.x))\n",
    "SC_bounds.drop(['x', 'y'], axis=1, inplace=True)\n",
    "SC_hull = SC_bounds.unary_union.convex_hull"
   ]
  },
  {
   "cell_type": "code",
   "execution_count": null,
   "id": "2834df6b",
   "metadata": {},
   "outputs": [],
   "source": [
    "import os\n",
    "\n",
    "directory_in_str = \"C:\\\\Users\\\\natha\\\\Documents\\\\School\\\\CSE498\\\\CapstoneExploration\\\\data\"\n",
    "directory = os.fsencode(directory_in_str)\n",
    "\n",
    "SC_buildings = gpd.GeoDataFrame()\n",
    "    \n",
    "for file in os.listdir(directory):\n",
    "     filename = os.fsdecode(file)\n",
    "     if \"California_x\" in filename: \n",
    "        buildings = gpd.read_file(filename)\n",
    "        buildings.drop([\"release\", \"capture_dates_range\"], axis=1, inplace=True)\n",
    "        in_sc = buildings.intersects(SC_hull)\n",
    "        joinlist = [SC_buildings]\n",
    "        for i in range(in_sc.shape[0]):\n",
    "            if in_sc[i]:\n",
    "                joinlist.append(buildings.iloc[i])\n",
    "        SC_buildings = gpd.GeoDataFrame(pd.concat(joinlist, ignore_index=True))\n",
    "                                                \n",
    "SC_buildings"
   ]
  },
  {
   "cell_type": "code",
   "execution_count": 74,
   "id": "1c3c9a1b",
   "metadata": {},
   "outputs": [],
   "source": [
    "SC_buildings.to_file('SC_buildings.geojson', driver='GeoJSON')  "
   ]
  },
  {
   "cell_type": "code",
   "execution_count": 30,
   "id": "c9994860",
   "metadata": {},
   "outputs": [],
   "source": [
    "SC_buildings = gpd.read_file(\"SC_buildings.geojson\")\n",
    "SC_buildings.columns = [\"geometry\"]"
   ]
  },
  {
   "cell_type": "code",
   "execution_count": 36,
   "id": "fc679461",
   "metadata": {},
   "outputs": [
    {
     "data": {
      "text/plain": [
       "False    734205\n",
       "True          6\n",
       "dtype: int64"
      ]
     },
     "execution_count": 36,
     "metadata": {},
     "output_type": "execute_result"
    }
   ],
   "source": [
    "damaged = SC_buildings.within(fire_hull)\n",
    "damaged.value_counts()"
   ]
  },
  {
   "cell_type": "code",
   "execution_count": 37,
   "id": "b98f76b3",
   "metadata": {},
   "outputs": [
    {
     "data": {
      "text/plain": [
       "False    734201\n",
       "True         10\n",
       "dtype: int64"
      ]
     },
     "execution_count": 37,
     "metadata": {},
     "output_type": "execute_result"
    }
   ],
   "source": [
    "partial_damage = SC_buildings.intersects(fire_hull)\n",
    "partial_damage.value_counts()"
   ]
  },
  {
   "cell_type": "code",
   "execution_count": 18,
   "id": "284da02a",
   "metadata": {},
   "outputs": [
    {
     "name": "stderr",
     "output_type": "stream",
     "text": [
      "C:\\Users\\natha\\anaconda3\\lib\\site-packages\\descartes\\patch.py:62: ShapelyDeprecationWarning: The array interface is deprecated and will no longer work in Shapely 2.0. Convert the '.coords' to a numpy array instead.\n",
      "  vertices = concatenate([\n"
     ]
    },
    {
     "data": {
      "image/png": "[encoded data removed]",
      "text/plain": [
       "<Figure size 432x288 with 1 Axes>"
      ]
     },
     "metadata": {
      "needs_background": "light"
     },
     "output_type": "display_data"
    }
   ],
   "source": [
    "plt = SC_buildings.plot()"
   ]
  },
  {
   "cell_type": "code",
   "execution_count": null,
   "id": "3adf10c9",
   "metadata": {},
   "outputs": [],
   "source": []
  }
 ],
 "metadata": {
  "kernelspec": {
   "display_name": "Python 3 (ipykernel)",
   "language": "python",
   "name": "python3"
  },
  "language_info": {
   "codemirror_mode": {
    "name": "ipython",
    "version": 3
   },
   "file_extension": ".py",
   "mimetype": "text/x-python",
   "name": "python",
   "nbconvert_exporter": "python",
   "pygments_lexer": "ipython3",
   "version": "3.9.7"
  }
 },
 "nbformat": 4,
 "nbformat_minor": 5
}