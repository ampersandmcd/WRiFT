{
 "cells": [
  {
   "cell_type": "markdown",
   "id": "3e598423",
   "metadata": {},
   "source": [
    "# Wildfire Simulation via FARSITE and Discrete Huygens Principle\n",
    "\n",
    "![Wavy Fire](images/fig3.jpg)\n",
    "\n",
    "Wildfires exhibit several major behaviors, or concurrent vectors of spread, which are handled separately by wildfire models and rely on related but distinct sets of data. Therefore, comprehensive wildfire simulation suites often integrate several sub-models. Our model of choice, [FARSITE](https://www.fs.fed.us/rm/pubs/rmrs_rp004.pdf), was published by scientists in association with the United States Forestry Service in 1998 and is an integration of several older models of surface and canopy spread spread, as well as fire acceleration and spotting. FARSITE is considered a scientific and industry standard in wildfire modeling and has driven simulation software suites for over two decades.\n",
    "\n",
    "\n",
    "### Surface Spread\n",
    "\n",
    "![Surface Spread](images/fig6.jpg)\n",
    "\n",
    "Surface Spread, also known as Ground Spread, is fire propagation that occurs through ground fuels. These ground fuels include low brush, fallen trees, and grasses. FARSITE, and thus our work, models surface spread via [The Rothermel Model](https://www.fs.fed.us/rm/pubs_series/rmrs/gtr/rmrs_gtr371.pdf). This model was developed in the early 1970s by US Forestry Service scientist Richard Rothermel, and was iterated upon in 1976 by fellow USFS scientist Frank Albini.\n",
    "\n",
    "### Canopy Spread\n",
    "\n",
    "![Canopy Spread](images/fig7.jpg)\n",
    "\n",
    "Canopy Spread, also known as Crown Spread, is fire propagation that occurs through the combustion of tree crowns which overlie surface fuels in forest areas. Canopy fire often outpaces ground fire in areas of thick woodland, driven by greater access to oxygen. FARSITE, and thus our work, models canopy fire based on [work published by C.E. Van Wagner in the Canadian Journal of Forest Research in 1997](https://cdnsciencepub.com/doi/abs/10.1139/x77-004)\n",
    "\n",
    "### Fire Acceleration\n",
    "\n",
    "![Fire Acceleration](images/fig8.png)\n",
    "\n",
    "Fire Acceleration Models are used to computationally express the intuitive reality that as a fire gains heat energy, it gains a sense of \"momentum\", and thus spreads more quickly. Formally, Fire acceleration is defined as the rate of increase in spread rate for a given ignition source assuming all fire environmental conditions remain constant. FARSITE, and thus our work, utilizes the [fire acceleration model proposed by The Forestry Canada Fire Danger Group in 1992](https://cfs.nrcan.gc.ca/pubwarehouse/pdfs/31414.pdf).\n",
    "\n",
    "### Fire Spotting\n",
    "\n",
    "![Fire Spotting](images/fig9.jpg)\n",
    "\n",
    "Spotting refers to new ignitions ahead of the main fire front started by firebrands lofted by the fire and transported by the wind. Spotting can advance fire over barriers many kilometers away from the current fire\n",
    "perimeter and dramatically alter fire growth patterns and behavior. FARSITE, and thus our work, utilizes [Frank Albini's 1979 research on maximum spotting distance from torching trees](https://www.frames.gov/documents/behaveplus/publications/Morris_1987_INT-RN-374.pdf).\n",
    "\n",
    "## How do we put all this together?\n",
    "\n",
    "Aerial photos make clear the wave-like nature of wildfire propagation, a process characterized by a raging fire-front leaving charred and smoldering wildnerness in its wake. This wave-like behavior allows us to model the growth of fire using a wealth of physical and mathematical theory that, although not immediately applicable, approximate the complex phenomenon with remarkable realism and precision.\n",
    "\n",
    "### Huygens Principle\n",
    "\n",
    "The Huygens Principle, also commonly known as the Huygens-Fresnel principle, is a method of analysis applied wave propagation problems across many sub-fields of physics. The principle states that every point on a wavefront is itself the source of elliptical wavelets. These elliptical wavelets mutually interfere with one-another, and their post-interference sum gives the next wavefront.\n",
    "\n",
    "![Huygens Principle Wave Propagation](images/fig2.png)\n",
    "\n",
    "This method is naturally suited to iteration, with a discrete time step seperating each render of the wavefront from the prior elliptical propagation step.\n",
    "\n",
    "FARSITE utilizes Huygens Principle to model fire-fronts.\n",
    "\n",
    "![FARSITE Huygens](images/fig5.png)\n",
    "\n",
    "We utilize a discretized variation of Huygens Principle to allow seamless and efficient front end implementation.\n",
    "\n",
    "![Triangle Grid Approximation](images/fig10.png)\n",
    "\n",
    "The Fire Front, and final fire impact area, is shown over the course of 200 iterations of our model on real Bay Area data below here.\n",
    "\n",
    "![Fire front and final area of impact](images/fig11.png)"
   ]
  },
  {
   "cell_type": "code",
   "execution_count": null,
   "id": "7cf3bad9",
   "metadata": {},
   "outputs": [],
   "source": []
  }
 ],
 "metadata": {
  "kernelspec": {
   "display_name": "Python 3 (ipykernel)",
   "language": "python",
   "name": "python3"
  },
  "language_info": {
   "codemirror_mode": {
    "name": "ipython",
    "version": 3
   },
   "file_extension": ".py",
   "mimetype": "text/x-python",
   "name": "python",
   "nbconvert_exporter": "python",
   "pygments_lexer": "ipython3",
   "version": "3.8.10"
  }
 },
 "nbformat": 4,
 "nbformat_minor": 5
}
